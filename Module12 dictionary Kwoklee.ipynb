{
 "cells": [
  {
   "cell_type": "markdown",
   "metadata": {},
   "source": [
    "### Exercise 1. \n",
    "Create a dictionary named pairs with key value pairs of:\n",
    "    - 'hello' and 'fire', \n",
    "    - 3 and 'seven', \n",
    "    - 'strong' and 45. \n",
    "\n",
    "Then, print out the dictionary."
   ]
  },
  {
   "cell_type": "code",
   "execution_count": 6,
   "metadata": {},
   "outputs": [
    {
     "name": "stdout",
     "output_type": "stream",
     "text": [
      "{'hello': 'fire', 3: 'seven', 'strong': 45}\n"
     ]
    }
   ],
   "source": [
    "pairs={'hello':'fire', 3:'seven', 'strong':45}\n",
    "print(pairs)"
   ]
  },
  {
   "cell_type": "markdown",
   "metadata": {},
   "source": [
    "Exercise 2. \n",
    "Add 'welcome' and 56 pair into <b><i>pairs</i></b> dictionary from exercise 1. Then, print out the dictionary. "
   ]
  },
  {
   "cell_type": "code",
   "execution_count": 7,
   "metadata": {},
   "outputs": [
    {
     "name": "stdout",
     "output_type": "stream",
     "text": [
      "{'hello': 'fire', 3: 'seven', 'strong': 45, 'welcome': 56}\n"
     ]
    }
   ],
   "source": [
    "pairs['welcome']=56\n",
    "print(pairs)"
   ]
  },
  {
   "cell_type": "markdown",
   "metadata": {},
   "source": [
    "### Exercise 3. \n",
    "Delete one item from <b><i>pairs</i></b> dictionary. Then, print deleted item and the dictionary."
   ]
  },
  {
   "cell_type": "code",
   "execution_count": 8,
   "metadata": {},
   "outputs": [
    {
     "name": "stdout",
     "output_type": "stream",
     "text": [
      "fire\n",
      "{3: 'seven', 'strong': 45, 'welcome': 56}\n"
     ]
    }
   ],
   "source": [
    "item=pairs.pop('hello')\n",
    "print(item)\n",
    "print(pairs)"
   ]
  },
  {
   "cell_type": "markdown",
   "metadata": {},
   "source": [
    "### Exercise 4. \n",
    "Print the value of an item where key is 3 in <b><i>pairs</i></b> dicitonary"
   ]
  },
  {
   "cell_type": "code",
   "execution_count": 9,
   "metadata": {},
   "outputs": [
    {
     "name": "stdout",
     "output_type": "stream",
     "text": [
      "seven\n"
     ]
    }
   ],
   "source": [
    "item=pairs.get(3)\n",
    "print(item)"
   ]
  },
  {
   "cell_type": "markdown",
   "metadata": {},
   "source": [
    "### Exercise 5. \n",
    "Try to find out if the key called 'hello' exist in <b><i>pairs</i></b> dictionary. Print 'key is found' message if the key exists otherwise print 'key is not there'."
   ]
  },
  {
   "cell_type": "code",
   "execution_count": 16,
   "metadata": {},
   "outputs": [
    {
     "name": "stdout",
     "output_type": "stream",
     "text": [
      "key is not there\n",
      "Key is not there\n"
     ]
    }
   ],
   "source": [
    "if 'hello' in pairs:\n",
    "    print('key is found')\n",
    "else:\n",
    "    print('key is not there')\n",
    "    \n",
    "#or\n",
    "if pairs.get('hello') ==None:\n",
    "    print(\"Key is not there\")\n",
    "else:\n",
    "    print(\"key is found\")\n",
    "\n"
   ]
  },
  {
   "cell_type": "markdown",
   "metadata": {},
   "source": [
    "### Exercise 6. \n",
    "Create a Test Scores program that gets the name of students and test score from a user. Then, generate a list of students who passed and a list of students who failed where passing test score is 60 or above. "
   ]
  },
  {
   "cell_type": "code",
   "execution_count": 52,
   "metadata": {},
   "outputs": [],
   "source": [
    "def getscore():\n",
    "    testscore={}\n",
    "    cont='Y'\n",
    "    while cont=='Y':\n",
    "        print()\n",
    "        name=input(\"Please enter the name of student: \")\n",
    "        score=int(input(f\"Please enter test score of {name} : \" ))\n",
    "        cont=input(\"Anymore Y/N ? \").upper()\n",
    "        testscore[name]=score\n",
    "    \n",
    "    return testscore\n",
    "    "
   ]
  },
  {
   "cell_type": "code",
   "execution_count": 53,
   "metadata": {},
   "outputs": [
    {
     "name": "stdout",
     "output_type": "stream",
     "text": [
      "\n",
      "Please enter the name of student: John1\n",
      "Please enter test score of John1 : 100\n",
      "Anymore Y/N ? y\n",
      "\n",
      "Please enter the name of student: keith\n",
      "Please enter test score of keith : 90\n",
      "Anymore Y/N ? y\n",
      "\n",
      "Please enter the name of student: Samuel\n",
      "Please enter test score of Samuel : 60\n",
      "Anymore Y/N ? n\n",
      "Here is a list of students who passed the test ['John1', 'keith']\n",
      "Here is a list of studetns who failed the test ['Samuel']\n"
     ]
    }
   ],
   "source": [
    "testscore=getscore()\n",
    "passed=[]\n",
    "failed=[]\n",
    "\n",
    "for x, y in testscore.items():\n",
    "    if y >60:\n",
    "        passed.append(x)\n",
    "    else:\n",
    "        failed.append(x)\n",
    "\n",
    "print(f\"Here is a list of students who passed the test {passed}\")\n",
    "print(f\"Here is a list of studetns who failed the test {failed}\")"
   ]
  },
  {
   "cell_type": "code",
   "execution_count": null,
   "metadata": {},
   "outputs": [],
   "source": []
  },
  {
   "cell_type": "markdown",
   "metadata": {},
   "source": [
    "### Exercise 7. \n",
    "\n",
    "Create a Word Counter program that gets a string of text from a user and then counts the number of times a word occrs in the string. \n",
    "\n",
    "The output should look something like this:\n",
    "\n",
    "    The Word Counter Program\n",
    "    \n",
    "    Enter a text string: \n",
    "    Humpty Dumpty sat on a wall, Humpty Dumpty had a great fall. All the king’s horses and all the king’s men couldn’t put Humpty together again.\n",
    "\n",
    "    a : 2\n",
    "    again : 1\n",
    "    all : 2\n",
    "    and : 1\n",
    "    couldn’t : 1\n",
    "    dumpty : 2\n",
    "    fall : 1\n",
    "    great : 1\n",
    "    had : 1\n",
    "    horses : 1\n",
    "    humpty : 3\n",
    "    king’s : 2\n",
    "    men : 1\n",
    "    on : 1\n",
    "    put : 1\n",
    "    sat : 1\n",
    "    the : 2\n",
    "    together : 1\n",
    "    wall : 1\n",
    "\n",
    "    There were total 26 words in the text string   "
   ]
  },
  {
   "cell_type": "code",
   "execution_count": 78,
   "metadata": {},
   "outputs": [
    {
     "name": "stdout",
     "output_type": "stream",
     "text": [
      "Please enter your text: Humpty Dumpty sat on a wall, Humpty Dumpty had a great fall. All the king’s horses and all the king’s men couldn’t put Humpty together again.\n",
      "\n",
      "a 2\n",
      "again 1\n",
      "all 2\n",
      "and 1\n",
      "couldn’t 1\n",
      "dumpty 2\n",
      "fall 1\n",
      "great 1\n",
      "had 1\n",
      "horses 1\n",
      "humpty 3\n",
      "king’s 2\n",
      "men 1\n",
      "on 1\n",
      "put 1\n",
      "sat 1\n",
      "the 2\n",
      "together 1\n",
      "wall 1\n"
     ]
    }
   ],
   "source": [
    "# get the text from the user and turn the text into lower case\n",
    "mytext=input(\"Please enter your text: \").lower()\n",
    "print()\n",
    "\n",
    "# split the text into words\n",
    "words=mytext.split()\n",
    "\n",
    "#build a dictionary with each individual word as key, and numbers of occurence as value\n",
    "mydict={}\n",
    "\n",
    "for word in words:\n",
    "\n",
    "# look for words that have a comma and fullstop at the end, get rid of that comma and fullstop\n",
    "   \n",
    "    if ',' in word:\n",
    "        word=word[:-1]\n",
    "    elif '.' in word:\n",
    "        word=word[:-1]\n",
    "        \n",
    "# now put the words in the dictionary        \n",
    "    \n",
    "    if word in mydict:\n",
    "        mydict[word]+=1\n",
    "    else:\n",
    "        mydict[word]=1\n",
    "\n",
    "# now sort the dictionary by its keys and print it out.\n",
    "\n",
    "for item in sorted(mydict.keys()):\n",
    "    print(item, mydict[item])\n",
    "\n",
    "\n",
    "        "
   ]
  },
  {
   "cell_type": "code",
   "execution_count": null,
   "metadata": {},
   "outputs": [],
   "source": []
  }
 ],
 "metadata": {
  "kernelspec": {
   "display_name": "Python 3",
   "language": "python",
   "name": "python3"
  },
  "language_info": {
   "codemirror_mode": {
    "name": "ipython",
    "version": 3
   },
   "file_extension": ".py",
   "mimetype": "text/x-python",
   "name": "python",
   "nbconvert_exporter": "python",
   "pygments_lexer": "ipython3",
   "version": "3.7.6"
  }
 },
 "nbformat": 4,
 "nbformat_minor": 4
}
